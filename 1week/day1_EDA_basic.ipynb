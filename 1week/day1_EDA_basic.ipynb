{
 "cells": [
  {
   "cell_type": "code",
   "execution_count": null,
   "id": "0a344aeb",
   "metadata": {},
   "outputs": [],
   "source": [
    "import pandas as pd\n",
    "import numpy as np\n",
    "import seaborn as sns\n",
    "import matplotlib.pyplot as plt"
   ]
  },
  {
   "cell_type": "code",
   "execution_count": null,
   "id": "7e222fee",
   "metadata": {},
   "outputs": [],
   "source": [
    "titanic_df = pd.read_csv(\"data/titanic.csv\")"
   ]
  },
  {
   "cell_type": "code",
   "execution_count": null,
   "id": "c6f40086",
   "metadata": {},
   "outputs": [],
   "source": [
    "titanic_df.shape"
   ]
  },
  {
   "cell_type": "code",
   "execution_count": null,
   "id": "ce43595a",
   "metadata": {},
   "outputs": [],
   "source": [
    "titanic_df.info()"
   ]
  },
  {
   "cell_type": "code",
   "execution_count": null,
   "id": "8fd5dbe7",
   "metadata": {},
   "outputs": [],
   "source": [
    "\"\"\"\n",
    "PassengerId\n",
    "Pclass 티켓 클래스\n",
    "Name\n",
    "Sex\n",
    "Age\n",
    "SibSp # 함께 탑승한 형재자매, 배우자\n",
    "Parch # 함께 탑승한 부모, 자녀\n",
    "Ticket\n",
    "Fare \n",
    "Cabin # 객실 번호\n",
    "Embarked #승선 항\n",
    "\"\"\""
   ]
  },
  {
   "cell_type": "code",
   "execution_count": null,
   "id": "5350170e",
   "metadata": {},
   "outputs": [],
   "source": [
    "titanic_df.describe()"
   ]
  },
  {
   "cell_type": "code",
   "execution_count": null,
   "id": "a0616331",
   "metadata": {},
   "outputs": [],
   "source": [
    "titanic_df.describe(include='all')"
   ]
  },
  {
   "cell_type": "code",
   "execution_count": null,
   "id": "c1b1dae0",
   "metadata": {},
   "outputs": [],
   "source": [
    "categorical_val = ['Sex', 'Ticket', 'Cabin', 'Embarked']"
   ]
  },
  {
   "cell_type": "code",
   "execution_count": null,
   "id": "7392882e",
   "metadata": {},
   "outputs": [],
   "source": [
    "for val in categorical_val:\n",
    "    print(titanic_df[val].value_counts())\n",
    "    print()"
   ]
  },
  {
   "cell_type": "code",
   "execution_count": null,
   "id": "6eed8e81",
   "metadata": {},
   "outputs": [],
   "source": [
    "numeric_val = ['Pclass', 'Age', 'SibSp', 'Parch', 'Fare']"
   ]
  },
  {
   "cell_type": "code",
   "execution_count": null,
   "id": "491719bd",
   "metadata": {},
   "outputs": [],
   "source": [
    "for val in numeric_val:\n",
    "    print(titanic_df[val].agg(['mean', 'max', 'min']))\n",
    "    print()"
   ]
  },
  {
   "cell_type": "code",
   "execution_count": null,
   "id": "67705ac8",
   "metadata": {},
   "outputs": [],
   "source": [
    "categorical_val = ['Sex', 'Embarked']\n",
    "numeric_val = ['Pclass', 'Age', 'SibSp', 'Parch', 'Fare']\n",
    "for c_val in categorical_val:\n",
    "    for n_val in numeric_val:\n",
    "        print(f\"groupby: {c_val}, statistics: {n_val}\")\n",
    "        print(titanic_df.groupby(c_val)[n_val].agg(['mean', 'max', 'min']))\n",
    "        print()"
   ]
  },
  {
   "cell_type": "code",
   "execution_count": null,
   "id": "b611a7ea",
   "metadata": {},
   "outputs": [],
   "source": [
    "def auto_eda(df, group_col, target_col, **kwargs):\n",
    "    print(f\"{group_col} 별 {target_col} 통계\")\n",
    "    print(df.groupby(group_col)[target_col].describe())\n",
    "\n",
    "    normalize = kwargs.get('normalize', False)\n",
    "\n",
    "    print(\"\\nValue Counts\" + (\" (비율)\" if normalize else \" (빈도)\"))\n",
    "    grouped = df.groupby(group_col)[target_col]\n",
    "\n",
    "    if normalize:\n",
    "        result = grouped.apply(lambda x: x.value_counts(normalize=True))\n",
    "    else:\n",
    "        result = grouped.value_counts()\n",
    "\n",
    "    print(result)"
   ]
  },
  {
   "cell_type": "code",
   "execution_count": null,
   "id": "9978f085",
   "metadata": {},
   "outputs": [],
   "source": [
    "auto_eda(titanic_df, 'Pclass', 'Survived')"
   ]
  },
  {
   "cell_type": "code",
   "execution_count": null,
   "id": "ae652ac5",
   "metadata": {},
   "outputs": [],
   "source": [
    "auto_eda(titanic_df, 'Sex', 'Survived')"
   ]
  },
  {
   "cell_type": "code",
   "execution_count": null,
   "id": "fd521061",
   "metadata": {},
   "outputs": [],
   "source": [
    "# 사용 예시1\n",
    "# 남녀의 요금은 비슷한가?\n",
    "auto_eda(titanic_df, 'Sex', 'Fare')"
   ]
  },
  {
   "cell_type": "code",
   "execution_count": null,
   "id": "1b391012",
   "metadata": {},
   "outputs": [],
   "source": [
    "#평균적으로 여성의 요금이 더 높음"
   ]
  },
  {
   "cell_type": "code",
   "execution_count": null,
   "id": "20631a42",
   "metadata": {},
   "outputs": [],
   "source": [
    "#시각화로 확인\n",
    "plt.figure(figsize=(8,6))\n",
    "sns.boxplot(data=titanic_df, x='Sex', y='Fare')\n",
    "plt.show()"
   ]
  },
  {
   "cell_type": "code",
   "execution_count": null,
   "id": "d1e1f596",
   "metadata": {},
   "outputs": [],
   "source": [
    "# 사용 예시2-1\n",
    "# 가족단위로 탑승한 사람들이 가장 많은 항구는 어디인가?\n",
    "auto_eda(titanic_df, 'Parch', 'Embarked')"
   ]
  },
  {
   "cell_type": "code",
   "execution_count": null,
   "id": "4ae8b045",
   "metadata": {},
   "outputs": [],
   "source": [
    "# 사용 예시2-2\n",
    "# 가족단위로 탑승한 사람들이 가장 많은 항구는 어디인가?\n",
    "# 비율로 보는게 편함\n",
    "auto_eda(titanic_df, 'Parch', 'Embarked', normalize=True)"
   ]
  },
  {
   "cell_type": "code",
   "execution_count": null,
   "id": "d59dc053",
   "metadata": {},
   "outputs": [],
   "source": []
  }
 ],
 "metadata": {
  "kernelspec": {
   "display_name": "Python 3 (ipykernel)",
   "language": "python",
   "name": "python3"
  },
  "language_info": {
   "codemirror_mode": {
    "name": "ipython",
    "version": 3
   },
   "file_extension": ".py",
   "mimetype": "text/x-python",
   "name": "python",
   "nbconvert_exporter": "python",
   "pygments_lexer": "ipython3"
  }
 },
 "nbformat": 4,
 "nbformat_minor": 5
}
