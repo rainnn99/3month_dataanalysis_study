{
 "cells": [
  {
   "cell_type": "code",
   "execution_count": null,
   "id": "656f7df1",
   "metadata": {},
   "outputs": [],
   "source": [
    "import pandas as pd\n",
    "import numpy as np\n",
    "import seaborn as sns\n",
    "import matplotlib.pyplot as plt"
   ]
  },
  {
   "cell_type": "code",
   "execution_count": null,
   "id": "a2bc1a33",
   "metadata": {},
   "outputs": [],
   "source": [
    "titanic_df = sns.load_dataset(\"titanic\")"
   ]
  },
  {
   "cell_type": "code",
   "execution_count": null,
   "id": "cf35add5",
   "metadata": {},
   "outputs": [],
   "source": [
    "titanic_df.info()"
   ]
  },
  {
   "cell_type": "code",
   "execution_count": null,
   "id": "77c38976",
   "metadata": {},
   "outputs": [],
   "source": [
    "categorical_val = ['sex', 'class', 'embarked', 'who', 'deck', 'alone']\n",
    "numerical_val = ['age', 'fare', 'sibsp', 'parch']"
   ]
  },
  {
   "cell_type": "code",
   "execution_count": null,
   "id": "2b0a54ee",
   "metadata": {},
   "outputs": [],
   "source": [
    "#범주형 변수별 비율\n",
    "for val in categorical_val:\n",
    "    titanic_df[val].value_counts(normalize=True).plot(kind='bar')\n",
    "    plt.show()"
   ]
  },
  {
   "cell_type": "code",
   "execution_count": null,
   "id": "19d03fe7",
   "metadata": {},
   "outputs": [],
   "source": [
    "# 범주형 변수 시각화(survived 기준)\n",
    "for val in categorical_val:\n",
    "    plt.figure()\n",
    "    sns.countplot(data=titanic_df, x=val, hue='survived')\n",
    "    plt.title(f'{val.capitalize()} distribution')\n",
    "    plt.show()"
   ]
  },
  {
   "cell_type": "code",
   "execution_count": null,
   "id": "2cbab0cd",
   "metadata": {},
   "outputs": [],
   "source": [
    "# 수치형 변수 시각화(분포)\n",
    "for val in numerical_val:\n",
    "    plt.figure()\n",
    "    sns.histplot(data=titanic_df, x=val, kde=True)\n",
    "    plt.title(f'{val.capitalize()} distribution')\n",
    "    plt.show()"
   ]
  },
  {
   "cell_type": "code",
   "execution_count": null,
   "id": "ffbf6612",
   "metadata": {},
   "outputs": [],
   "source": [
    "# 수치형 변수 시각화(survived 기준)\n",
    "for val in numerical_val:\n",
    "    plt.figure()\n",
    "    sns.violinplot(data=titanic_df, x='survived', y=val)\n",
    "    plt.title(f'{val.capitalize()} distribution (survived)')\n",
    "    plt.show()"
   ]
  },
  {
   "cell_type": "code",
   "execution_count": null,
   "id": "18e01dc9",
   "metadata": {},
   "outputs": [],
   "source": [
    "# 수치형 변수 이상치 확인\n",
    "for val in numerical_val:\n",
    "    plt.figure()\n",
    "    sns.boxplot(data=titanic_df, x=val)\n",
    "    plt.title(f'{val.capitalize()} boxplot')\n",
    "    plt.show()"
   ]
  },
  {
   "cell_type": "code",
   "execution_count": null,
   "id": "3b5c66df",
   "metadata": {},
   "outputs": [],
   "source": [
    "# 변수간의 관계\n",
    "sns.pairplot(titanic_df[['survived'] + numerical_val], hue='survived', diag_kind='kde')\n",
    "plt.suptitle('Relationship between numerical variables', y=1.0)\n",
    "plt.tight_layout()\n",
    "plt.show()"
   ]
  },
  {
   "cell_type": "code",
   "execution_count": null,
   "id": "9170fd82",
   "metadata": {},
   "outputs": [],
   "source": [
    "\"\"\"\n",
    "시각화에서 알수 있는 점\n",
    "1. 남성이 더 많이 탑승, 여성이 더 많이 생존\n",
    "2. first 클래스만 생존율이 50% 이상\n",
    "3. 여성 뿐 아니라 아이들도 50% 이상 생존\n",
    "4. 2,30 대의 비율이 높음\n",
    "5. 생존자들의 티겟 가격 평균이 더 높음\n",
    "\"\"\""
   ]
  }
 ],
 "metadata": {
  "kernelspec": {
   "display_name": "Python 3 (ipykernel)",
   "language": "python",
   "name": "python3"
  },
  "language_info": {
   "codemirror_mode": {
    "name": "ipython",
    "version": 3
   },
   "file_extension": ".py",
   "mimetype": "text/x-python",
   "name": "python",
   "nbconvert_exporter": "python",
   "pygments_lexer": "ipython3"
  }
 },
 "nbformat": 4,
 "nbformat_minor": 5
}
