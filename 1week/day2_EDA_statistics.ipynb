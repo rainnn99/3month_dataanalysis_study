{
 "cells": [
  {
   "cell_type": "code",
   "execution_count": null,
   "id": "3848c94a",
   "metadata": {},
   "outputs": [],
   "source": [
    "import pandas as pd\n",
    "import numpy as np\n",
    "import seaborn as sns\n",
    "import matplotlib.pyplot as plt"
   ]
  },
  {
   "cell_type": "code",
   "execution_count": null,
   "id": "40f7fc8c",
   "metadata": {},
   "outputs": [],
   "source": [
    "titanic_df = pd.read_csv(\"data/titanic.csv\")"
   ]
  },
  {
   "cell_type": "code",
   "execution_count": null,
   "id": "a9102641",
   "metadata": {},
   "outputs": [],
   "source": [
    "numeric_val = ['Pclass', 'Age', 'SibSp', 'Parch', 'Fare']\n",
    "titanic_df[numeric_val].info()"
   ]
  },
  {
   "cell_type": "code",
   "execution_count": null,
   "id": "3749a736",
   "metadata": {},
   "outputs": [],
   "source": [
    "titanic_df.describe()"
   ]
  },
  {
   "cell_type": "code",
   "execution_count": null,
   "id": "854c9162",
   "metadata": {},
   "outputs": [],
   "source": [
    "#Age에 결측값있어서 중앙값 대체\n",
    "titanic_df['Age'] = titanic_df['Age'].fillna(titanic_df['Age'].median())"
   ]
  },
  {
   "cell_type": "code",
   "execution_count": null,
   "id": "2a70cfa9",
   "metadata": {},
   "outputs": [],
   "source": [
    "titanic_df[numeric_val].info()"
   ]
  },
  {
   "cell_type": "code",
   "execution_count": null,
   "id": "555a0203",
   "metadata": {},
   "outputs": [],
   "source": [
    "#결과가 잘 나올것이라 판단되는 Age, Fare만 이상치 탐지 진행"
   ]
  },
  {
   "cell_type": "code",
   "execution_count": null,
   "id": "cbd4c31a",
   "metadata": {},
   "outputs": [],
   "source": [
    "#Age\n",
    "Q1 = titanic_df['Age'].quantile(0.25)\n",
    "Q3 = titanic_df['Age'].quantile(0.75)\n",
    "IQR = Q3 - Q1\n",
    "lower = Q1 - (1.5 * IQR)\n",
    "upper = Q3 + (1.5 * IQR)\n",
    "\n",
    "print(f\"Age IQR 범위: {lower:.2f} ~ {upper:.2f}\")\n",
    "print(f\"Age IQR 이상치 수: {(titanic_df['Age'] < lower).sum() + (titanic_df['Age'] > upper).sum()}\")"
   ]
  },
  {
   "cell_type": "code",
   "execution_count": null,
   "id": "0e28cc13",
   "metadata": {},
   "outputs": [],
   "source": [
    "sns.boxplot(x=titanic_df['Age'])\n",
    "plt.show()"
   ]
  },
  {
   "cell_type": "code",
   "execution_count": null,
   "id": "62b467bc",
   "metadata": {},
   "outputs": [],
   "source": [
    "#Fare\n",
    "Q1 = titanic_df['Fare'].quantile(0.25)\n",
    "Q3 = titanic_df['Fare'].quantile(0.75)\n",
    "IQR = Q3 - Q1\n",
    "lower = Q1 - (1.5 * IQR)\n",
    "upper = Q3 + (1.5 * IQR)\n",
    "\n",
    "print(f\"Fare IQR 범위: {lower:.2f} ~ {upper:.2f}\")\n",
    "print(f\"Fare IQR 이상치 수: {(titanic_df['Fare'] < lower).sum() + (titanic_df['Fare'] > upper).sum()}\")"
   ]
  },
  {
   "cell_type": "code",
   "execution_count": null,
   "id": "9de9469d",
   "metadata": {},
   "outputs": [],
   "source": [
    "sns.boxplot(x=titanic_df['Fare'])\n",
    "plt.show()"
   ]
  },
  {
   "cell_type": "code",
   "execution_count": null,
   "id": "f4b4b321",
   "metadata": {},
   "outputs": [],
   "source": [
    "def check_outliers_iqr(data, column):\n",
    "    Q1 = data[column].quantile(0.25)\n",
    "    Q3 = data[column].quantile(0.75)\n",
    "    IQR = Q3 - Q1\n",
    "    lower = Q1 - (1.5 * IQR)\n",
    "    upper = Q3 + (1.5 * IQR)\n",
    "    outliers = data[(data[column] < lower) | (data[column] > upper)]\n",
    "    print(f\"{column} IQR 범위: {lower:.2f} ~ {upper:.2f}\")\n",
    "    print(f\"Fare IQR 이상치 수: {(data[column] < lower).sum() + (data[column] > upper).sum()}\")\n",
    "    return outliers"
   ]
  },
  {
   "cell_type": "code",
   "execution_count": null,
   "id": "90270d34",
   "metadata": {},
   "outputs": [],
   "source": [
    "for col in ['Age', 'Fare']:\n",
    "    outliers = check_outliers_iqr(titanic_df, col)\n",
    "    sns.boxplot(x=titanic_df[col])\n",
    "    plt.show()"
   ]
  },
  {
   "cell_type": "code",
   "execution_count": null,
   "id": "9d7e6c76",
   "metadata": {},
   "outputs": [],
   "source": [
    "#Z-score 방식\n",
    "from scipy.stats import zscore\n",
    "\n",
    "titanic_z = titanic_df[['Age', 'Fare']].copy()\n",
    "z_scores = zscore(titanic_z)\n",
    "titanic_z = pd.DataFrame(z_scores, columns=['Age', 'Fare'])"
   ]
  },
  {
   "cell_type": "code",
   "execution_count": null,
   "id": "b1bd6e0a",
   "metadata": {},
   "outputs": [],
   "source": [
    "for col in titanic_z.columns:\n",
    "    count = (np.abs(titanic_z[col]) > 3).sum()\n",
    "    print(f\"{col} z-score 이상치 수: {count}\")\n",
    "    sns.histplot(titanic_z[col], kde=True)\n",
    "    plt.show()"
   ]
  },
  {
   "cell_type": "code",
   "execution_count": null,
   "id": "385b9dbb",
   "metadata": {},
   "outputs": [],
   "source": [
    "#히스토그램상 age는 정규분포에 가깝고, Fare는 왼쪽으로 많이 치우쳐져 있음"
   ]
  },
  {
   "cell_type": "code",
   "execution_count": null,
   "id": "8c7fa716",
   "metadata": {},
   "outputs": [],
   "source": [
    "# 상관관계 분석\n",
    "corr = titanic_df[numeric_val].corr()\n",
    "corr"
   ]
  },
  {
   "cell_type": "code",
   "execution_count": null,
   "id": "6c669018",
   "metadata": {},
   "outputs": [],
   "source": [
    "sns.heatmap(corr, annot=True, cmap='coolwarm', fmt='.2f')\n",
    "plt.title('corr heatmap')\n",
    "plt.show()"
   ]
  },
  {
   "cell_type": "code",
   "execution_count": null,
   "id": "d67250b1",
   "metadata": {},
   "outputs": [],
   "source": [
    "\"\"\"\n",
    "상관계수의 판단은 대략 절댓값 기준\n",
    "0.00 ~ 0.10 : 매우 약함 (무시 가능), 거의 무상관, 관련성 없음\n",
    "0.10 ~ 0.30 : 약한 상관, 약한 관련성, 데이터 노이즈 수준\n",
    "0.30 ~ 0.50 : 중간 정도, 유의미한 상관 관계 가능성\n",
    "0.50 ~ 0.70 : 강한 상관, 명확한 관련성, 인과 가능성 탐색 대상\n",
    "0.70 ~ 0.90 : 매우 강한 상관, 변수 간 관계가 뚜렷함, 다중공선성 가능성 있음\n",
    "0.90 ~ 1.00 : 거의 완벽한 상관, 변수 간 중복 가능성, 동일 정보 수준\n",
    "\"\"\""
   ]
  },
  {
   "cell_type": "code",
   "execution_count": null,
   "id": "15223dff",
   "metadata": {},
   "outputs": [],
   "source": [
    "# 상관계수 절댓값 기준으로 필터링\n",
    "threshold = 0.5\n",
    "strong_corrs = (corr.abs() > threshold) & (corr.abs() < 1.0)\n",
    "\n",
    "for col in strong_corrs.columns:\n",
    "    related = strong_corrs.index[strong_corrs[col]].tolist()\n",
    "    if related:\n",
    "        print(f\"{col} ↔ {related}\")"
   ]
  },
  {
   "cell_type": "code",
   "execution_count": null,
   "id": "508686bc",
   "metadata": {},
   "outputs": [],
   "source": [
    "print(type(corr))"
   ]
  },
  {
   "cell_type": "code",
   "execution_count": null,
   "id": "28ebeb9c",
   "metadata": {},
   "outputs": [],
   "source": []
  }
 ],
 "metadata": {
  "kernelspec": {
   "display_name": "Python 3 (ipykernel)",
   "language": "python",
   "name": "python3"
  },
  "language_info": {
   "codemirror_mode": {
    "name": "ipython",
    "version": 3
   },
   "file_extension": ".py",
   "mimetype": "text/x-python",
   "name": "python",
   "nbconvert_exporter": "python",
   "pygments_lexer": "ipython3"
  }
 },
 "nbformat": 4,
 "nbformat_minor": 5
}
